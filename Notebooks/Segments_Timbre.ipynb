{
 "cells": [
  {
   "cell_type": "code",
   "execution_count": 14,
   "id": "reliable-evening",
   "metadata": {
    "scrolled": true
   },
   "outputs": [],
   "source": [
    "import pandas as pd\n",
    "import pickle\n",
    "\n",
    "import sys\n",
    "sys.path.append('C:\\\\Users\\\\Tim\\\\PycharmProjects\\\\625.687\\src') # your local repo here\n",
    "\n",
    "path = \"C:\\\\Users\\\\Tim\\\\Desktop\\\\MillionSongSubsetMillionSongSubset_dataframe_test.pkl\" # your local data here\n",
    "big_path = \"C:\\\\Users\\\\Tim\\\\Desktop\\\\MillionSongSubset_dataframe.track_id_year_segments_pitches.pkl\"\n",
    "df = pickle.load(open(path, \"rb\"))"
   ]
  },
  {
   "cell_type": "code",
   "execution_count": null,
   "id": "entertaining-drilling",
   "metadata": {},
   "outputs": [],
   "source": []
  },
  {
   "cell_type": "code",
   "execution_count": 3,
   "id": "sustained-paste",
   "metadata": {},
   "outputs": [],
   "source": [
    "'''\n",
    "Vectorize segments_timbre\n",
    "'''\n",
    "import collections\n",
    "import numpy as np\n",
    "from scipy.stats import entropy\n",
    "\n",
    "def normalize_segments_timbre(segments_timbre_column):\\\n",
    "    \"\"\" Find value range for timbre \"\"\"\n",
    "    minimum = segments_timbre_column.iloc[0][0][0]\n",
    "    maximum = segments_timbre_column.iloc[0][0][0]\n",
    "    for series in segments_timbre_column:\n",
    "        for vector in series:\n",
    "            for score in vector:\n",
    "                if score > maximum:\n",
    "                    maximum = score\n",
    "                if score < minimum:\n",
    "                    minimum = score\n",
    "    return minimum, maximum\n",
    "\n",
    "def segments_timbre_distribution(timbre_vector, minimum, maximum):\n",
    "    \"\"\"\n",
    "    Constructs a 32 by 8 histogram; the 32 represents 32 timbre bins\n",
    "    Goal is to create a single vector which captures timbre range and variety\n",
    "    \"\"\"\n",
    "    # Space out the range [0,1] to 32 equally separated values\n",
    "    bin_values = np.linspace(minimum, maximum, 32)\n",
    "    timbre_bins = {}\n",
    "    for timbre in range(12):\n",
    "        timbre_bins[timbre] = collections.defaultdict(float)\n",
    "\n",
    "    # Generate 2-D timbre frequency histogram\n",
    "    for entry in timbre_vector:  # vector of 12 semitones (A->G#)\n",
    "        for i in range(12):  # for each tone\n",
    "            tone_idx = 0\n",
    "            while entry[i] >= bin_values[tone_idx]:  # find the bin for that tone's value,\n",
    "                if tone_idx == 31:\n",
    "                    break\n",
    "                tone_idx += 1\n",
    "            timbre_bins[i][tone_idx] += 1  # then save it to tone_bins\n",
    "\n",
    "    # Now, collapse the 2-D histogram into a 256-length feature vector\n",
    "    return_vector = []\n",
    "    normalization_factor = len(timbre_vector) # normalize, since more entries -> higher values due to length\n",
    "    for i in range(12):\n",
    "        for j in range(32):\n",
    "            return_vector.append(timbre_bins[i][j] / normalization_factor)\n",
    "    return return_vector\n",
    "\n",
    "\n",
    "def vectorize_segments_timbre_average(timbre_vector, minimum, maximum):\n",
    "    \"\"\"\n",
    "    For each timbre value, generate a sliding window of length 64. Then over those grouped values,\n",
    "    compute entropy;\n",
    "    \"\"\"\n",
    "    # Iterate over sliding windows of length 64\n",
    "    num_windows = len(timbre_vector) // 64\n",
    "    tone_means = collections.defaultdict(list)\n",
    "    for window_index in range(num_windows + 1):\n",
    "        i = window_index * 64\n",
    "        j = (window_index + 1) * 64\n",
    "        if j > len(timbre_vector):\n",
    "            j = len(timbre_vector)\n",
    "\n",
    "        # For each window, collect and group tone values\n",
    "        tones_vector = collections.defaultdict(list)\n",
    "        while i < j:\n",
    "            for tone_idx in range(12):\n",
    "                tones_vector[tone_idx].append(timbre_vector[i][tone_idx])\n",
    "            i += 1\n",
    "\n",
    "        # Compute entropy of tone value over each window for each tone\n",
    "        for tone in tones_vector.keys():\n",
    "            window_mean = np.mean(timbre_vector[window_index])  # is entropy what we want to measure here?\n",
    "            tone_means[tone].append(window_mean)\n",
    "\n",
    "    # Separate entropy values per tone into percentiles\n",
    "    tone_percentiles = collections.defaultdict(list)\n",
    "    percentiles = np.linspace(0, 1, 21)\n",
    "    for tone in tone_means.keys():\n",
    "        for p in percentiles:\n",
    "            p = p * 100\n",
    "            val = np.percentile(tone_means[tone], p)\n",
    "            tone_percentiles[tone].append(val)\n",
    "\n",
    "    # Now, collapse the 2-D histogram into a 256-length feature vector\n",
    "    return_vector = [0, 0, 0, 0, ]  # four empty values; use for other metadata?\n",
    "    for i in range(12):\n",
    "        for j in range(21):\n",
    "            return_vector.append(tone_percentiles[i][j])\n",
    "    for i in range(len(return_vector)):\n",
    "        if not isinstance(return_vector[i], float) or np.isnan(return_vector[i]):\n",
    "    return return_vector"
   ]
  },
  {
   "cell_type": "code",
   "execution_count": 10,
   "id": "cardiovascular-bibliography",
   "metadata": {},
   "outputs": [],
   "source": [
    "subdf = df[[\"year\", \"segments_timbre\"]]\n",
    "subdf = subdf[subdf[\"year\"] != 0]\n",
    "\n",
    "minimum, maximum = normalize_segments_timbre(subdf[\"segments_timbre\"])\n",
    "timbre_features = [vectorize_segments_timbre_average(x, minimum, maximum) + \n",
    "                   segments_timbre_distribution(x, minimum, maximum)\n",
    "                   for x in subdf[\"segments_timbre\"]]\n",
    "subdf[\"timbre_features\"] = timbre_features"
   ]
  },
  {
   "cell_type": "code",
   "execution_count": 12,
   "id": "casual-version",
   "metadata": {},
   "outputs": [],
   "source": [
    "import Metrics\n",
    "import numpy as np\n",
    "\n",
    "mf = Metrics.Metric() # metric factory\n",
    "metrics_df = []\n",
    "\n",
    "# Compute a square matrix of scores (every song against every song)\n",
    "for index1, row1 in subdf.iterrows():\n",
    "    metric_scores = []\n",
    "    for index2, row2 in subdf.iterrows():\n",
    "        score = mf.L_2_norm(row1[\"timbre_features\"], row2[\"timbre_features\"])\n",
    "        metric_scores.append(score)\n",
    "    metrics_df.append(metric_scores)\n",
    "    \n",
    "metrics_df = np.asarray(metrics_df)"
   ]
  },
  {
   "cell_type": "code",
   "execution_count": 13,
   "id": "searching-crawford",
   "metadata": {},
   "outputs": [
    {
     "data": {
      "image/png": "[encoded data removed]",
      "text/plain": [
       "<Figure size 432x288 with 1 Axes>"
      ]
     },
     "metadata": {
      "needs_background": "light"
     },
     "output_type": "display_data"
    }
   ],
   "source": [
    "from ripser import ripser\n",
    "from persim import plot_diagrams\n",
    "\n",
    "res = ripser(metrics_df, distance_matrix=True, maxdim=2)\n",
    "plot_diagrams(res['dgms'], show=True)"
   ]
  },
  {
   "cell_type": "code",
   "execution_count": 15,
   "id": "governing-snake",
   "metadata": {},
   "outputs": [
    {
     "data": {
      "text/plain": [
       "array([[   0.        , 1181.04196375,  886.28389781, ..., 4440.08217515,\n",
       "         929.99425756, 1880.62165958],\n",
       "       [1181.04196375,    0.        ,  734.11245056, ..., 3263.69530222,\n",
       "        1038.68184826, 1163.38018989],\n",
       "       [ 886.28389781,  734.11245056,    0.        , ..., 3787.90217184,\n",
       "         677.17028891, 1289.12491691],\n",
       "       ...,\n",
       "       [4440.08217515, 3263.69530222, 3787.90217184, ...,    0.        ,\n",
       "        3752.26052727, 2568.00398804],\n",
       "       [ 929.99425756, 1038.68184826,  677.17028891, ..., 3752.26052727,\n",
       "           0.        , 1189.57805375],\n",
       "       [1880.62165958, 1163.38018989, 1289.12491691, ..., 2568.00398804,\n",
       "        1189.57805375,    0.        ]])"
      ]
     },
     "execution_count": 15,
     "metadata": {},
     "output_type": "execute_result"
    }
   ],
   "source": [
    "metrics_df"
   ]
  },
  {
   "cell_type": "code",
   "execution_count": null,
   "id": "injured-composition",
   "metadata": {},
   "outputs": [],
   "source": []
  },
  {
   "cell_type": "code",
   "execution_count": null,
   "id": "advised-superior",
   "metadata": {},
   "outputs": [],
   "source": []
  },
  {
   "cell_type": "code",
   "execution_count": null,
   "id": "central-launch",
   "metadata": {},
   "outputs": [],
   "source": []
  },
  {
   "cell_type": "code",
   "execution_count": null,
   "id": "blond-chicago",
   "metadata": {},
   "outputs": [],
   "source": []
  },
  {
   "cell_type": "code",
   "execution_count": 7,
   "id": "bronze-office",
   "metadata": {},
   "outputs": [],
   "source": [
    "radius = 2000 # picked a value after looking at the L2 outputs\n",
    "\n",
    "# Group together elements which, for a given radius, have metric values less than some radius\n",
    "# Using matrix indices to save groups; indices should stil align to position in subdf \n",
    "\n",
    "elements = set()\n",
    "for i in range(len(metrics_df)):\n",
    "    ball_centered_around_i = set()\n",
    "    for j in range(len(metrics_df)):\n",
    "        if metrics_df[i][j] < radius:\n",
    "            ball_centered_around_i.add(j)\n",
    "    ball = tuple(sorted(ball_centered_around_i))\n",
    "    elements.add(ball)"
   ]
  },
  {
   "cell_type": "code",
   "execution_count": null,
   "id": "comparable-victor",
   "metadata": {},
   "outputs": [],
   "source": []
  },
  {
   "cell_type": "code",
   "execution_count": null,
   "id": "administrative-tender",
   "metadata": {},
   "outputs": [],
   "source": []
  },
  {
   "cell_type": "code",
   "execution_count": null,
   "id": "crude-surprise",
   "metadata": {},
   "outputs": [],
   "source": []
  },
  {
   "cell_type": "code",
   "execution_count": null,
   "id": "domestic-withdrawal",
   "metadata": {},
   "outputs": [],
   "source": []
  },
  {
   "cell_type": "code",
   "execution_count": null,
   "id": "electoral-rally",
   "metadata": {},
   "outputs": [],
   "source": []
  },
  {
   "cell_type": "code",
   "execution_count": null,
   "id": "bound-possession",
   "metadata": {},
   "outputs": [],
   "source": []
  },
  {
   "cell_type": "code",
   "execution_count": null,
   "id": "greater-firewall",
   "metadata": {},
   "outputs": [],
   "source": []
  },
  {
   "cell_type": "code",
   "execution_count": null,
   "id": "overall-apache",
   "metadata": {},
   "outputs": [],
   "source": []
  },
  {
   "cell_type": "code",
   "execution_count": null,
   "id": "beneficial-toyota",
   "metadata": {},
   "outputs": [],
   "source": []
  },
  {
   "cell_type": "code",
   "execution_count": null,
   "id": "adaptive-volume",
   "metadata": {},
   "outputs": [],
   "source": []
  },
  {
   "cell_type": "code",
   "execution_count": null,
   "id": "bearing-seminar",
   "metadata": {},
   "outputs": [],
   "source": []
  },
  {
   "cell_type": "code",
   "execution_count": 77,
   "id": "usual-campbell",
   "metadata": {},
   "outputs": [],
   "source": [
    "from sklearn import tree\n",
    "from sklearn.metrics import roc_curve, auc\n",
    "from sklearn.model_selection import train_test_split\n",
    "from sklearn.preprocessing import label_binarize\n",
    "\n",
    "clf = tree.DecisionTreeClassifier()\n",
    "train_x, test_x, train_y, test_y =train_test_split(subdf[\"timbre_features\"], subdf[\"year\"],\n",
    "                                                   test_size=0.2, random_state=666)\n",
    "\n",
    "train_x = [np.asarray(x) for x in train_x]\n",
    "train_y = [np.asarray(x) for x in train_y]\n",
    "test_x = [np.asarray(x) for x in test_x]\n",
    "test_y = [np.asarray(x) for x in test_y]\n",
    "\n",
    "y_score = clf.fit(train_x, train_y).predict(test_x)\n",
    "\n",
    "diffs = [abs(y_score[i] - test_y[i]) for i in range(len(y_score))]"
   ]
  },
  {
   "cell_type": "code",
   "execution_count": 78,
   "id": "extended-pastor",
   "metadata": {},
   "outputs": [
    {
     "name": "stdout",
     "output_type": "stream",
     "text": [
      "Mean: 15.818181818181818\n",
      "Stdv: 12.5973892087223\n",
      "Mode: 3\n",
      "Quantiles: [ 3.  5. 12. 25. 39.]\n"
     ]
    },
    {
     "data": {
      "text/plain": [
       "(array([3., 2., 1., 1., 1., 0., 0., 0., 2., 1.]),\n",
       " array([ 3. ,  6.6, 10.2, 13.8, 17.4, 21. , 24.6, 28.2, 31.8, 35.4, 39. ]),\n",
       " <BarContainer object of 10 artists>)"
      ]
     },
     "execution_count": 78,
     "metadata": {},
     "output_type": "execute_result"
    },
    {
     "data": {
      "image/png": "[encoded data removed]",
      "text/plain": [
       "<Figure size 432x288 with 1 Axes>"
      ]
     },
     "metadata": {
      "needs_background": "light"
     },
     "output_type": "display_data"
    }
   ],
   "source": [
    "import matplotlib.pyplot as plt\n",
    "\n",
    "print(\"Mean:\", np.mean(diffs))\n",
    "print(\"Stdv:\", np.std(diffs))\n",
    "print(\"Mode:\", max(set(diffs), key=diffs.count))\n",
    "print(\"Quantiles:\", np.quantile(diffs, [0.0, 0.25, 0.5, 0.75, 1.]))\n",
    "\n",
    "plt.hist(diffs)"
   ]
  },
  {
   "cell_type": "code",
   "execution_count": null,
   "id": "auburn-gabriel",
   "metadata": {},
   "outputs": [],
   "source": []
  }
 ],
 "metadata": {
  "kernelspec": {
   "display_name": "topology",
   "language": "python",
   "name": "topology"
  },
  "language_info": {
   "codemirror_mode": {
    "name": "ipython",
    "version": 3
   },
   "file_extension": ".py",
   "mimetype": "text/x-python",
   "name": "python",
   "nbconvert_exporter": "python",
   "pygments_lexer": "ipython3",
   "version": "3.7.10"
  }
 },
 "nbformat": 4,
 "nbformat_minor": 5
}
