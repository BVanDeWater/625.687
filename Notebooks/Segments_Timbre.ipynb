{
 "cells": [
  {
   "cell_type": "code",
   "execution_count": 4,
   "id": "reliable-evening",
   "metadata": {},
   "outputs": [
    {
     "name": "stdout",
     "output_type": "stream",
     "text": [
      "analysis_sample_rate\n",
      "analyzer_version\n",
      "artist_7digitalid\n",
      "artist_familiarity\n",
      "artist_hotttnesss\n",
      "artist_id\n",
      "artist_latitude\n",
      "artist_location\n",
      "artist_longitude\n",
      "artist_mbid\n",
      "artist_mbtags\n",
      "artist_mbtags_count\n",
      "artist_name\n",
      "artist_playmeid\n",
      "artist_terms\n",
      "artist_terms_freq\n",
      "artist_terms_weight\n",
      "audio_md5\n",
      "bars_confidence\n",
      "bars_start\n",
      "beats_confidence\n",
      "beats_start\n",
      "danceability\n",
      "duration\n",
      "end_of_fade_in\n",
      "energy\n",
      "genre\n",
      "idx_artist_mbtags\n",
      "idx_artist_terms\n",
      "idx_bars_confidence\n",
      "idx_bars_start\n",
      "idx_beats_confidence\n",
      "idx_beats_start\n",
      "idx_sections_confidence\n",
      "idx_sections_start\n",
      "idx_segments_confidence\n",
      "idx_segments_loudness_max\n",
      "idx_segments_loudness_max_time\n",
      "idx_segments_loudness_start\n",
      "idx_segments_pitches\n",
      "idx_segments_start\n",
      "idx_segments_timbre\n",
      "idx_similar_artists\n",
      "idx_tatums_confidence\n",
      "idx_tatums_start\n",
      "key\n",
      "key_confidence\n",
      "loudness\n",
      "mode\n",
      "mode_confidence\n",
      "release\n",
      "release_7digitalid\n",
      "sections_confidence\n",
      "sections_start\n",
      "segments_confidence\n",
      "segments_loudness_max\n",
      "segments_loudness_max_time\n",
      "segments_loudness_start\n",
      "segments_pitches\n",
      "segments_start\n",
      "segments_timbre\n",
      "similar_artists\n",
      "song_hotttnesss\n",
      "song_id\n",
      "start_of_fade_out\n",
      "tatums_confidence\n",
      "tatums_start\n",
      "tempo\n",
      "time_signature\n",
      "time_signature_confidence\n",
      "title\n",
      "track_7digitalid\n",
      "track_id\n",
      "year\n"
     ]
    }
   ],
   "source": [
    "import pandas as pd\n",
    "import pickle\n",
    "\n",
    "import sys\n",
    "sys.path.append('C:\\\\Users\\\\Tim\\\\PycharmProjects\\\\625.687\\src') # your local repo here\n",
    "\n",
    "path = \"C:\\\\Users\\\\Tim\\\\Desktop\\\\MillionSongSubsetMillionSongSubset_dataframe_test.pkl\" # your local data here\n",
    "big_path = \"C:\\\\Users\\\\Tim\\\\Desktop\\\\MillionSongSubset_dataframe.track_id_year_segments_pitches.pkl\"\n",
    "df = pickle.load(open(path, \"rb\"))\n",
    "for c in sorted(df.columns):\n",
    "    print(c)"
   ]
  },
  {
   "cell_type": "code",
   "execution_count": null,
   "id": "filled-loading",
   "metadata": {},
   "outputs": [],
   "source": []
  },
  {
   "cell_type": "code",
   "execution_count": 68,
   "id": "entertaining-drilling",
   "metadata": {},
   "outputs": [
    {
     "data": {
      "text/plain": [
       "(-446.323, 471.464)"
      ]
     },
     "execution_count": 68,
     "metadata": {},
     "output_type": "execute_result"
    }
   ],
   "source": [
    "'''\n",
    "Find range of timbre\n",
    "'''\n",
    "    \n",
    "def normalize_segments_timbre(segments_timbre_column):\n",
    "    minimum = segments_timbre_column.iloc[0][0][0]\n",
    "    maximum = segments_timbre_column.iloc[0][0][0]\n",
    "    for series in segments_timbre_column:\n",
    "        for vector in series:\n",
    "            for score in vector:\n",
    "                if score > maximum:\n",
    "                    maximum = score\n",
    "                if score < minimum:\n",
    "                    minimum = score\n",
    "    return minimum, maximum\n",
    "\n",
    "normalize_segments_timbre(df[\"segments_timbre\"])"
   ]
  },
  {
   "cell_type": "code",
   "execution_count": 59,
   "id": "sustained-paste",
   "metadata": {},
   "outputs": [],
   "source": [
    "'''\n",
    "Vectorize segments_timbre\n",
    "'''\n",
    "import collections\n",
    "import numpy as np\n",
    "from scipy.stats import entropy\n",
    "\n",
    "def segments_timbre_distribution(timbre_vector, minimum, maximum):\n",
    "    \"\"\"\n",
    "    Constructs a 32 by 8 histogram; the 32 represents 32 timbre bins\n",
    "    Goal is to create a single vector which captures timbre range and variety\n",
    "    \"\"\"\n",
    "    # Space out the range [0,1] to 32 equally separated values\n",
    "    bin_values = np.linspace(minimum, maximum, 32)\n",
    "    timbre_bins = {}\n",
    "    for timbre in range(12):\n",
    "        timbre_bins[timbre] = collections.defaultdict(float)\n",
    "\n",
    "    # Generate 2-D timbre frequency histogram\n",
    "    for entry in timbre_vector:  # vector of 12 semitones (A->G#)\n",
    "        for i in range(12):  # for each tone\n",
    "            tone_idx = 0\n",
    "            while entry[i] >= bin_values[tone_idx]:  # find the bin for that tone's value,\n",
    "                if tone_idx == 31:\n",
    "                    break\n",
    "                tone_idx += 1\n",
    "            timbre_bins[i][tone_idx] += 1  # then save it to tone_bins\n",
    "\n",
    "    # Now, collapse the 2-D histogram into a 256-length feature vector\n",
    "    return_vector = []\n",
    "    normalization_factor = len(timbre_vector) # normalize, since more entries -> higher values due to length\n",
    "    for i in range(12):\n",
    "        for j in range(32):\n",
    "            return_vector.append(timbre_bins[i][j] / normalization_factor)\n",
    "    return return_vector\n",
    "\n",
    "\n",
    "def vectorize_segments_timbre_average(timbre_vector, minimum, maximum):\n",
    "    \"\"\"\n",
    "    For each timbre value, generate a sliding window of length 64. Then over those grouped values,\n",
    "    compute entropy;\n",
    "    \"\"\"\n",
    "    # Iterate over sliding windows of length 64\n",
    "    num_windows = len(timbre_vector) // 64\n",
    "    tone_means = collections.defaultdict(list)\n",
    "    for window_index in range(num_windows + 1):\n",
    "        i = window_index * 64\n",
    "        j = (window_index + 1) * 64\n",
    "        if j > len(timbre_vector):\n",
    "            j = len(timbre_vector)\n",
    "\n",
    "        # For each window, collect and group tone values\n",
    "        tones_vector = collections.defaultdict(list)\n",
    "        while i < j:\n",
    "            for tone_idx in range(12):\n",
    "                tones_vector[tone_idx].append(timbre_vector[i][tone_idx])\n",
    "            i += 1\n",
    "\n",
    "        # Compute entropy of tone value over each window for each tone\n",
    "        for tone in tones_vector.keys():\n",
    "            window_mean = np.mean(timbre_vector[window_index])  # is entropy what we want to measure here?\n",
    "            tone_means[tone].append(window_mean)\n",
    "\n",
    "    # Separate entropy values per tone into percentiles\n",
    "    tone_percentiles = collections.defaultdict(list)\n",
    "    percentiles = np.linspace(0, 1, 21)\n",
    "    for tone in tone_means.keys():\n",
    "        for p in percentiles:\n",
    "            p = p * 100\n",
    "            val = np.percentile(tone_means[tone], p)\n",
    "            tone_percentiles[tone].append(val)\n",
    "\n",
    "    # Now, collapse the 2-D histogram into a 256-length feature vector\n",
    "    return_vector = [0, 0, 0, 0, ]  # four empty values; use for other metadata?\n",
    "    for i in range(12):\n",
    "        for j in range(21):\n",
    "            return_vector.append(tone_percentiles[i][j])\n",
    "    for i in range(len(return_vector)):\n",
    "        if not isinstance(return_vector[i], float) or np.isnan(return_vector[i]):\n",
    "            return_vector[i] = 0.\n",
    "    return return_vector"
   ]
  },
  {
   "cell_type": "code",
   "execution_count": 65,
   "id": "attended-decade",
   "metadata": {},
   "outputs": [],
   "source": [
    "minimum, maximum = normalize_segments_timbre(df[\"segments_timbre\"])\n",
    "#vectors = [segments_timbre_distribution(x, minimum, maximum) for x in df[\"segments_timbre\"]]\n",
    "vectors = [vectorize_segments_timbre_average(x, minimum, maximum) for x in df[\"segments_timbre\"]]"
   ]
  },
  {
   "cell_type": "code",
   "execution_count": 72,
   "id": "cardiovascular-bibliography",
   "metadata": {},
   "outputs": [],
   "source": [
    "subdf = df[[\"year\", \"segments_timbre\"]]\n",
    "subdf = subdf[subdf[\"year\"] != 0]\n",
    "\n",
    "minimum, maximum = normalize_segments_timbre(subdf[\"segments_timbre\"])\n",
    "timbre_features = [vectorize_segments_timbre_average(x, minimum, maximum) for x in subdf[\"segments_timbre\"]]\n",
    "subdf[\"timbre_features\"] = timbre_features"
   ]
  },
  {
   "cell_type": "code",
   "execution_count": 73,
   "id": "casual-version",
   "metadata": {},
   "outputs": [
    {
     "name": "stdout",
     "output_type": "stream",
     "text": [
      "Pseduom: 0.4157462830912271\n"
     ]
    }
   ],
   "source": [
    "import Metrics\n",
    "\n",
    "mf = Metrics.Metric() # metric factory\n",
    "metrics_df = []\n",
    "\n",
    "# Compute a square matrix of scores (every song against every song)\n",
    "for index1, row1 in subdf.iterrows():\n",
    "    metric_scores = []\n",
    "    for index2, row2 in subdf.iterrows():\n",
    "        score = mf.L_2_norm(row1[\"timbre_features\"], row2[\"timbre_features\"])\n",
    "        metric_scores.append(score)\n",
    "    metrics_df.append(metric_scores)"
   ]
  },
  {
   "cell_type": "code",
   "execution_count": 75,
   "id": "bronze-office",
   "metadata": {},
   "outputs": [],
   "source": [
    "radius = 2000 # picked a value after looking at the L2 outputs\n",
    "\n",
    "# Group together elements which, for a given radius, have metric values less than some radius\n",
    "# Using matrix indices to save groups; indices should stil align to position in subdf \n",
    "\n",
    "elements = set()\n",
    "for i in range(len(metrics_df)):\n",
    "    ball_centered_around_i = set()\n",
    "    for j in range(len(metrics_df)):\n",
    "        if metrics_df[i][j] < radius:\n",
    "            ball_centered_around_i.add(j)\n",
    "    ball = tuple(sorted(ball_centered_around_i))\n",
    "    elements.add(ball)"
   ]
  },
  {
   "cell_type": "code",
   "execution_count": 79,
   "id": "comparable-victor",
   "metadata": {},
   "outputs": [],
   "source": [
    "# Generate simplicial complexes from the data\n",
    "from itertools import combinations\n",
    "\n",
    "def generate_simplicial_complexes(set_of_sets):\n",
    "    \"\"\"\n",
    "    Treat each set like it represents a simplicial complex, and generate inclusion power sets all the way down\n",
    "    (simplicial complexes are closed under interection; if (abc), then (ab), (ac), and (bc) must be in the set)\n",
    "    \"\"\"\n",
    "    combs = set()\n",
    "    for simplicial_complex in set_of_sets:\n",
    "        #print(simplicial_complex, \"\\n\")\n",
    "        for i in range(1, 4):\n",
    "            i_length_combos = combinations(simplicial_complex, i)\n",
    "            for combo in i_length_combos:\n",
    "                combs.add(tuple(sorted(combo)))\n",
    "    return combs\n",
    "\n",
    "complexes = generate_simplicial_complexes(elements)"
   ]
  },
  {
   "cell_type": "code",
   "execution_count": 80,
   "id": "beneficial-toyota",
   "metadata": {},
   "outputs": [],
   "source": [
    "import numpy as np\n",
    "\n",
    "years = subdf[\"year\"].values\n",
    "\n",
    "ranges = []\n",
    "\n",
    "for simplicial in complexes:\n",
    "    x = [years[i] for i in simplicial]\n",
    "    ranges.append(np.max(x) - np.min(x))"
   ]
  },
  {
   "cell_type": "code",
   "execution_count": 83,
   "id": "adaptive-volume",
   "metadata": {},
   "outputs": [
    {
     "data": {
      "image/png": "[encoded data removed]",
      "text/plain": [
       "<Figure size 432x288 with 1 Axes>"
      ]
     },
     "metadata": {
      "needs_background": "light"
     },
     "output_type": "display_data"
    }
   ],
   "source": [
    "import matplotlib.pyplot as plt\n",
    "\n",
    "plt.hist(ranges)\n",
    "plt.show()"
   ]
  },
  {
   "cell_type": "code",
   "execution_count": null,
   "id": "limiting-davis",
   "metadata": {},
   "outputs": [],
   "source": []
  },
  {
   "cell_type": "code",
   "execution_count": null,
   "id": "restricted-connectivity",
   "metadata": {},
   "outputs": [],
   "source": []
  },
  {
   "cell_type": "code",
   "execution_count": null,
   "id": "continental-glance",
   "metadata": {},
   "outputs": [],
   "source": []
  },
  {
   "cell_type": "code",
   "execution_count": null,
   "id": "inside-treaty",
   "metadata": {},
   "outputs": [],
   "source": []
  },
  {
   "cell_type": "code",
   "execution_count": null,
   "id": "bearing-seminar",
   "metadata": {},
   "outputs": [],
   "source": []
  },
  {
   "cell_type": "code",
   "execution_count": 77,
   "id": "usual-campbell",
   "metadata": {},
   "outputs": [],
   "source": [
    "from sklearn import tree\n",
    "from sklearn.metrics import roc_curve, auc\n",
    "from sklearn.model_selection import train_test_split\n",
    "from sklearn.preprocessing import label_binarize\n",
    "\n",
    "clf = tree.DecisionTreeClassifier()\n",
    "train_x, test_x, train_y, test_y =train_test_split(subdf[\"timbre_features\"], subdf[\"year\"],\n",
    "                                                   test_size=0.2, random_state=666)\n",
    "\n",
    "train_x = [np.asarray(x) for x in train_x]\n",
    "train_y = [np.asarray(x) for x in train_y]\n",
    "test_x = [np.asarray(x) for x in test_x]\n",
    "test_y = [np.asarray(x) for x in test_y]\n",
    "\n",
    "y_score = clf.fit(train_x, train_y).predict(test_x)\n",
    "\n",
    "diffs = [abs(y_score[i] - test_y[i]) for i in range(len(y_score))]"
   ]
  },
  {
   "cell_type": "code",
   "execution_count": 78,
   "id": "extended-pastor",
   "metadata": {},
   "outputs": [
    {
     "name": "stdout",
     "output_type": "stream",
     "text": [
      "Mean: 15.818181818181818\n",
      "Stdv: 12.5973892087223\n",
      "Mode: 3\n",
      "Quantiles: [ 3.  5. 12. 25. 39.]\n"
     ]
    },
    {
     "data": {
      "text/plain": [
       "(array([3., 2., 1., 1., 1., 0., 0., 0., 2., 1.]),\n",
       " array([ 3. ,  6.6, 10.2, 13.8, 17.4, 21. , 24.6, 28.2, 31.8, 35.4, 39. ]),\n",
       " <BarContainer object of 10 artists>)"
      ]
     },
     "execution_count": 78,
     "metadata": {},
     "output_type": "execute_result"
    },
    {
     "data": {
      "image/png": "[encoded data removed]",
      "text/plain": [
       "<Figure size 432x288 with 1 Axes>"
      ]
     },
     "metadata": {
      "needs_background": "light"
     },
     "output_type": "display_data"
    }
   ],
   "source": [
    "import matplotlib.pyplot as plt\n",
    "\n",
    "print(\"Mean:\", np.mean(diffs))\n",
    "print(\"Stdv:\", np.std(diffs))\n",
    "print(\"Mode:\", max(set(diffs), key=diffs.count))\n",
    "print(\"Quantiles:\", np.quantile(diffs, [0.0, 0.25, 0.5, 0.75, 1.]))\n",
    "\n",
    "plt.hist(diffs)"
   ]
  },
  {
   "cell_type": "code",
   "execution_count": null,
   "id": "auburn-gabriel",
   "metadata": {},
   "outputs": [],
   "source": []
  }
 ],
 "metadata": {
  "kernelspec": {
   "display_name": "topology",
   "language": "python",
   "name": "topology"
  },
  "language_info": {
   "codemirror_mode": {
    "name": "ipython",
    "version": 3
   },
   "file_extension": ".py",
   "mimetype": "text/x-python",
   "name": "python",
   "nbconvert_exporter": "python",
   "pygments_lexer": "ipython3",
   "version": "3.7.10"
  }
 },
 "nbformat": 4,
 "nbformat_minor": 5
}
